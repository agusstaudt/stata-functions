{
 "cells": [
  {
   "cell_type": "markdown",
   "metadata": {},
   "source": [
    "# Stata functions: examples \n",
    "This project aims to develop a set of functions in Stata that will help the user when developing code in his or her work environment. On the one hand, it presents different functions of a practical nature, which help in the organization of Stata projects. On the other hand, the project presents functions that help solve particular problems in more specific scenarios.  The following, it develops and explains the function called `val_cuit()`, then this project explains the simpler and easy-to-apply function `notes()`. \n",
    "\n",
    "## val_cuit \n",
    "`val_cuit` is a function that identifies IDs in Argentina, known as *Clave Úniva de Identificación Tributaria* (CUIT). The CUIT is a code used in the tax system of the Argentine Republic to correctly identify individuals or autonomous legal entities of the Argentine Republic that are liable to pay taxes or must be identified in some way by the control entities. The codes are assigned by the Federal Administration of Public Revenues (AFIP), in order to prepare the registry or census of the same, for administrative and tax purposes. \n",
    "\n",
    "However, the processing of many databases in Argentina that identify persons by CUIT often arrive with errors in the conformation of such key, sometimes due to typos or bad practices when uploading the information digitally. Therefore, identifying the correct keys, filtering them and being able to work on real CUITs is an important task for any database processing task that involves working with these keys.  "
   ]
  },
  {
   "cell_type": "code",
   "execution_count": 1,
   "metadata": {},
   "outputs": [
    {
     "name": "stdout",
     "output_type": "stream",
     "text": [
      "\n",
      "  ___  ____  ____  ____  ____ ©\n",
      " /__    /   ____/   /   ____/      17.0\n",
      "___/   /   /___/   /   /___/       MP—Parallel Edition\n",
      "\n",
      " Statistics and Data Science       Copyright 1985-2021 StataCorp LLC\n",
      "                                   StataCorp\n",
      "                                   4905 Lakeway Drive\n",
      "                                   College Station, Texas 77845 USA\n",
      "                                   800-STATA-PC        https://www.stata.com\n",
      "                                   979-696-4600        stata@stata.com\n",
      "\n",
      "Stata license: 10-student 2-core lab perpetual\n",
      "Serial number: 501706348327\n",
      "  Licensed to: 10-user Student Lab\n",
      "               \n",
      "\n",
      "Notes:\n",
      "      1. Unicode is supported; see help unicode_advice.\n",
      "      2. More than 2 billion observations are allowed; see help obs_advice.\n",
      "      3. Maximum number of variables is set to 5,000; see help set_maxvar.\n"
     ]
    }
   ],
   "source": [
    "import sys\n",
    "sys.path.append('C:/Program Files/Stata17/utilities')\n",
    "from pystata import config\n",
    "config.init('mp')"
   ]
  }
 ],
 "metadata": {
  "kernelspec": {
   "display_name": "Python 3.9.12",
   "language": "python",
   "name": "python3"
  },
  "language_info": {
   "codemirror_mode": {
    "name": "ipython",
    "version": 3
   },
   "file_extension": ".py",
   "mimetype": "text/x-python",
   "name": "python",
   "nbconvert_exporter": "python",
   "pygments_lexer": "ipython3",
   "version": "3.9.12"
  },
  "orig_nbformat": 4,
  "vscode": {
   "interpreter": {
    "hash": "5eba2f6daac758e0c4eb74cbbf3fd787eaf14bd08a71327f2f2275e3d00aa03b"
   }
  }
 },
 "nbformat": 4,
 "nbformat_minor": 2
}
